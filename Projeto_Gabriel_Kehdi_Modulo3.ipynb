{
 "cells": [
  {
   "cell_type": "code",
   "execution_count": 1,
   "id": "2d6e7724",
   "metadata": {},
   "outputs": [
    {
     "data": {
      "text/plain": [
       "<networkx.classes.digraph.DiGraph at 0x7fd2b8392be0>"
      ]
     },
     "execution_count": 1,
     "metadata": {},
     "output_type": "execute_result"
    }
   ],
   "source": [
    "import networkx as nx\n",
    "g1 = nx.DiGraph()\n",
    "g1\n"
   ]
  },
  {
   "cell_type": "code",
   "execution_count": 2,
   "id": "ad977f57",
   "metadata": {},
   "outputs": [
    {
     "data": {
      "text/plain": [
       "{'graph_attr_dict_factory': dict,\n",
       " 'node_dict_factory': dict,\n",
       " 'node_attr_dict_factory': dict,\n",
       " 'adjlist_outer_dict_factory': dict,\n",
       " 'adjlist_inner_dict_factory': dict,\n",
       " 'edge_attr_dict_factory': dict,\n",
       " 'graph': {},\n",
       " '_node': {},\n",
       " '_adj': {},\n",
       " '_pred': {},\n",
       " '_succ': {}}"
      ]
     },
     "execution_count": 2,
     "metadata": {},
     "output_type": "execute_result"
    }
   ],
   "source": [
    "vars(g1)"
   ]
  },
  {
   "cell_type": "code",
   "execution_count": 3,
   "id": "56c2b73f",
   "metadata": {},
   "outputs": [],
   "source": [
    "g1.add_node(\"CEO\", color = 'green')\n",
    "g1.add_node(\"GERENTE 1\")\n",
    "g1.add_node(\"GERENTE 2\")\n",
    "g1.add_node(\"GERENTE 3\")\n",
    "g1.add_node(\"GERENTE 4\")\n",
    "g1.add_node(\"ANALISTA 1\")\n",
    "g1.add_node(\"ANALISTA 2\")\n",
    "g1.add_node(\"ANALISTA 3\")\n",
    "g1.add_node(\"ANALISTA 4\")\n",
    "g1.add_node(\"ANALISTA 5\")\n",
    "g1.add_node(\"ANALISTA 6\")\n",
    "g1.add_node(\"ANALISTA 7\")\n",
    "g1.add_node(\"ANALISTA 8\")\n",
    "g1.add_node(\"ANALISTA 9\")\n",
    "g1.add_node(\"ANALISTA 10\")\n",
    "g1.add_node(\"ANALISTA 11\")\n",
    "g1.add_node(\"ANALISTA 12\")\n",
    "g1.add_node(\"ESTAGIÁRIO 1\")\n",
    "g1.add_node(\"ESTAGIÁRIO 2\")"
   ]
  },
  {
   "cell_type": "code",
   "execution_count": 5,
   "id": "4f8b4033",
   "metadata": {},
   "outputs": [
    {
     "data": {
      "text/plain": [
       "{'graph_attr_dict_factory': dict,\n",
       " 'node_dict_factory': dict,\n",
       " 'node_attr_dict_factory': dict,\n",
       " 'adjlist_outer_dict_factory': dict,\n",
       " 'adjlist_inner_dict_factory': dict,\n",
       " 'edge_attr_dict_factory': dict,\n",
       " 'graph': {},\n",
       " '_node': {'CEO': {'color': 'green'},\n",
       "  'GERENTE 1': {},\n",
       "  'GERENTE 2': {},\n",
       "  'GERENTE 3': {},\n",
       "  'GERENTE 4': {},\n",
       "  'ANALISTA 1': {},\n",
       "  'ANALISTA 2': {},\n",
       "  'ANALISTA 3': {},\n",
       "  'ANALISTA 4': {},\n",
       "  'ANALISTA 5': {},\n",
       "  'ANALISTA 6': {},\n",
       "  'ANALISTA 7': {},\n",
       "  'ANALISTA 8': {},\n",
       "  'ANALISTA 9': {},\n",
       "  'ANALISTA 10': {},\n",
       "  'ANALISTA 11': {},\n",
       "  'ANALISTA 12': {},\n",
       "  'ESTAGIÁRIO 1': {},\n",
       "  'ESTAGIÁRIO 2': {}},\n",
       " '_adj': {'CEO': {},\n",
       "  'GERENTE 1': {},\n",
       "  'GERENTE 2': {},\n",
       "  'GERENTE 3': {},\n",
       "  'GERENTE 4': {},\n",
       "  'ANALISTA 1': {},\n",
       "  'ANALISTA 2': {},\n",
       "  'ANALISTA 3': {},\n",
       "  'ANALISTA 4': {},\n",
       "  'ANALISTA 5': {},\n",
       "  'ANALISTA 6': {},\n",
       "  'ANALISTA 7': {},\n",
       "  'ANALISTA 8': {},\n",
       "  'ANALISTA 9': {},\n",
       "  'ANALISTA 10': {},\n",
       "  'ANALISTA 11': {},\n",
       "  'ANALISTA 12': {},\n",
       "  'ESTAGIÁRIO 1': {},\n",
       "  'ESTAGIÁRIO 2': {}},\n",
       " '_pred': {'CEO': {},\n",
       "  'GERENTE 1': {},\n",
       "  'GERENTE 2': {},\n",
       "  'GERENTE 3': {},\n",
       "  'GERENTE 4': {},\n",
       "  'ANALISTA 1': {},\n",
       "  'ANALISTA 2': {},\n",
       "  'ANALISTA 3': {},\n",
       "  'ANALISTA 4': {},\n",
       "  'ANALISTA 5': {},\n",
       "  'ANALISTA 6': {},\n",
       "  'ANALISTA 7': {},\n",
       "  'ANALISTA 8': {},\n",
       "  'ANALISTA 9': {},\n",
       "  'ANALISTA 10': {},\n",
       "  'ANALISTA 11': {},\n",
       "  'ANALISTA 12': {},\n",
       "  'ESTAGIÁRIO 1': {},\n",
       "  'ESTAGIÁRIO 2': {}},\n",
       " '_succ': {'CEO': {},\n",
       "  'GERENTE 1': {},\n",
       "  'GERENTE 2': {},\n",
       "  'GERENTE 3': {},\n",
       "  'GERENTE 4': {},\n",
       "  'ANALISTA 1': {},\n",
       "  'ANALISTA 2': {},\n",
       "  'ANALISTA 3': {},\n",
       "  'ANALISTA 4': {},\n",
       "  'ANALISTA 5': {},\n",
       "  'ANALISTA 6': {},\n",
       "  'ANALISTA 7': {},\n",
       "  'ANALISTA 8': {},\n",
       "  'ANALISTA 9': {},\n",
       "  'ANALISTA 10': {},\n",
       "  'ANALISTA 11': {},\n",
       "  'ANALISTA 12': {},\n",
       "  'ESTAGIÁRIO 1': {},\n",
       "  'ESTAGIÁRIO 2': {}},\n",
       " 'nodes': NodeView(('CEO', 'GERENTE 1', 'GERENTE 2', 'GERENTE 3', 'GERENTE 4', 'ANALISTA 1', 'ANALISTA 2', 'ANALISTA 3', 'ANALISTA 4', 'ANALISTA 5', 'ANALISTA 6', 'ANALISTA 7', 'ANALISTA 8', 'ANALISTA 9', 'ANALISTA 10', 'ANALISTA 11', 'ANALISTA 12', 'ESTAGIÁRIO 1', 'ESTAGIÁRIO 2'))}"
      ]
     },
     "execution_count": 5,
     "metadata": {},
     "output_type": "execute_result"
    }
   ],
   "source": [
    "vars(g1)"
   ]
  },
  {
   "cell_type": "code",
   "execution_count": 7,
   "id": "f975d858",
   "metadata": {},
   "outputs": [],
   "source": [
    "g1.add_edge(\"CEO\",\"GERENTE 1\")\n",
    "g1.add_edge(\"CEO\",\"GERENTE 2\")\n",
    "g1.add_edge(\"CEO\",\"GERENTE 3\")\n",
    "g1.add_edge(\"CEO\",\"GERENTE 4\")\n",
    "g1.add_edge(\"GERENTE 1\",\"ANALISTA 1\")\n",
    "g1.add_edge(\"GERENTE 1\",\"ANALISTA 2\")\n",
    "g1.add_edge(\"GERENTE 1\",\"ANALISTA 3\")\n",
    "g1.add_edge(\"GERENTE 2\",\"ANALISTA 4\")\n",
    "g1.add_edge(\"GERENTE 2\",\"ANALISTA 5\")\n",
    "g1.add_edge(\"GERENTE 2\",\"ANALISTA 6\")\n",
    "g1.add_edge(\"GERENTE 3\",\"ANALISTA 7\")\n",
    "g1.add_edge(\"GERENTE 3\",\"ANALISTA 8\")\n",
    "g1.add_edge(\"GERENTE 3\",\"ANALISTA 9\")\n",
    "g1.add_edge(\"GERENTE 4\",\"ANALISTA 10\")\n",
    "g1.add_edge(\"GERENTE 4\",\"ANALISTA 11\")\n",
    "g1.add_edge(\"GERENTE 4\",\"ANALISTA 12\")\n",
    "g1.add_edge(\"GERENTE 4\",\"ESTAGIÁRIO 1\")\n",
    "g1.add_edge(\"GERENTE 4\",\"ESTAGIÁRIO 2\")"
   ]
  },
  {
   "cell_type": "code",
   "execution_count": 8,
   "id": "b61547e6",
   "metadata": {},
   "outputs": [
    {
     "name": "stdout",
     "output_type": "stream",
     "text": [
      "{'CEO': {'GERENTE 1': {}, 'GERENTE 2': {}, 'GERENTE 3': {}, 'GERENTE 4': {}}, 'GERENTE 1': {'ANALISTA 1': {}, 'ANALISTA 2': {}, 'ANALISTA 3': {}}, 'GERENTE 2': {'ANALISTA 4': {}, 'ANALISTA 5': {}, 'ANALISTA 6': {}}, 'GERENTE 3': {'ANALISTA 7': {}, 'ANALISTA 8': {}, 'ANALISTA 9': {}}, 'GERENTE 4': {'ANALISTA 10': {}, 'ANALISTA 11': {}, 'ANALISTA 12': {}, 'ESTAGIÁRIO 1': {}, 'ESTAGIÁRIO 2': {}}, 'ANALISTA 1': {}, 'ANALISTA 2': {}, 'ANALISTA 3': {}, 'ANALISTA 4': {}, 'ANALISTA 5': {}, 'ANALISTA 6': {}, 'ANALISTA 7': {}, 'ANALISTA 8': {}, 'ANALISTA 9': {}, 'ANALISTA 10': {}, 'ANALISTA 11': {}, 'ANALISTA 12': {}, 'ESTAGIÁRIO 1': {}, 'ESTAGIÁRIO 2': {}}\n"
     ]
    }
   ],
   "source": [
    "print(g1._adj)"
   ]
  },
  {
   "cell_type": "code",
   "execution_count": 82,
   "id": "8713bef6",
   "metadata": {},
   "outputs": [
    {
     "data": {
      "text/plain": [
       "{'directed': True,\n",
       " 'multigraph': False,\n",
       " 'graph': [],\n",
       " 'nodes': [{'color': 'green', 'id': 'CEO'},\n",
       "  {'id': 'GERENTE 1'},\n",
       "  {'id': 'GERENTE 2'},\n",
       "  {'id': 'GERENTE 3'},\n",
       "  {'id': 'GERENTE 4'},\n",
       "  {'id': 'ANALISTA 1'},\n",
       "  {'id': 'ANALISTA 2'},\n",
       "  {'id': 'ANALISTA 3'},\n",
       "  {'id': 'ANALISTA 4'},\n",
       "  {'id': 'ANALISTA 5'},\n",
       "  {'id': 'ANALISTA 6'},\n",
       "  {'id': 'ANALISTA 7'},\n",
       "  {'id': 'ANALISTA 8'},\n",
       "  {'id': 'ANALISTA 9'},\n",
       "  {'id': 'ANALISTA 10'},\n",
       "  {'id': 'ANALISTA 11'},\n",
       "  {'id': 'ANALISTA 12'},\n",
       "  {'id': 'ESTAGIÁRIO 1'},\n",
       "  {'id': 'ESTAGIÁRIO 2'}],\n",
       " 'adjacency': [[{'id': 'GERENTE 1'},\n",
       "   {'id': 'GERENTE 2'},\n",
       "   {'id': 'GERENTE 3'},\n",
       "   {'id': 'GERENTE 4'}],\n",
       "  [{'id': 'ANALISTA 1'}, {'id': 'ANALISTA 2'}, {'id': 'ANALISTA 3'}],\n",
       "  [{'id': 'ANALISTA 4'}, {'id': 'ANALISTA 5'}, {'id': 'ANALISTA 6'}],\n",
       "  [{'id': 'ANALISTA 7'}, {'id': 'ANALISTA 8'}, {'id': 'ANALISTA 9'}],\n",
       "  [{'id': 'ANALISTA 10'},\n",
       "   {'id': 'ANALISTA 11'},\n",
       "   {'id': 'ANALISTA 12'},\n",
       "   {'id': 'ESTAGIÁRIO 1'},\n",
       "   {'id': 'ESTAGIÁRIO 2'}],\n",
       "  [],\n",
       "  [],\n",
       "  [],\n",
       "  [],\n",
       "  [],\n",
       "  [],\n",
       "  [],\n",
       "  [],\n",
       "  [],\n",
       "  [],\n",
       "  [],\n",
       "  [],\n",
       "  [],\n",
       "  []]}"
      ]
     },
     "execution_count": 82,
     "metadata": {},
     "output_type": "execute_result"
    }
   ],
   "source": [
    "nx.adjacency_data(g1)"
   ]
  },
  {
   "cell_type": "code",
   "execution_count": 77,
   "id": "c134512d",
   "metadata": {},
   "outputs": [
    {
     "data": {
      "text/plain": [
       "[[{'id': 'GERENTE 1'},\n",
       "  {'id': 'GERENTE 2'},\n",
       "  {'id': 'GERENTE 3'},\n",
       "  {'id': 'GERENTE 4'}],\n",
       " [{'id': 'ANALISTA 1'}, {'id': 'ANALISTA 2'}, {'id': 'ANALISTA 3'}],\n",
       " [{'id': 'ANALISTA 4'}, {'id': 'ANALISTA 5'}, {'id': 'ANALISTA 6'}],\n",
       " [{'id': 'ANALISTA 7'}, {'id': 'ANALISTA 8'}, {'id': 'ANALISTA 9'}],\n",
       " [{'id': 'ANALISTA 10'},\n",
       "  {'id': 'ANALISTA 11'},\n",
       "  {'id': 'ANALISTA 12'},\n",
       "  {'id': 'ESTAGIÁRIO 1'},\n",
       "  {'id': 'ESTAGIÁRIO 2'}],\n",
       " [],\n",
       " [],\n",
       " [],\n",
       " [],\n",
       " [],\n",
       " [],\n",
       " [],\n",
       " [],\n",
       " [],\n",
       " [],\n",
       " [],\n",
       " [],\n",
       " [],\n",
       " []]"
      ]
     },
     "execution_count": 77,
     "metadata": {},
     "output_type": "execute_result"
    }
   ],
   "source": [
    "nx.adjacency_data(g1)[\"adjacency\"]"
   ]
  },
  {
   "cell_type": "code",
   "execution_count": 63,
   "id": "fb0f3f39",
   "metadata": {},
   "outputs": [
    {
     "data": {
      "text/plain": [
       "matrix([[0, 1, 1, 1, 1, 0, 0, 0, 0, 0, 0, 0, 0, 0, 0, 0, 0, 0, 0],\n",
       "        [0, 0, 0, 0, 0, 1, 1, 1, 0, 0, 0, 0, 0, 0, 0, 0, 0, 0, 0],\n",
       "        [0, 0, 0, 0, 0, 0, 0, 0, 1, 1, 1, 0, 0, 0, 0, 0, 0, 0, 0],\n",
       "        [0, 0, 0, 0, 0, 0, 0, 0, 0, 0, 0, 1, 1, 1, 0, 0, 0, 0, 0],\n",
       "        [0, 0, 0, 0, 0, 0, 0, 0, 0, 0, 0, 0, 0, 0, 1, 1, 1, 1, 1],\n",
       "        [0, 0, 0, 0, 0, 0, 0, 0, 0, 0, 0, 0, 0, 0, 0, 0, 0, 0, 0],\n",
       "        [0, 0, 0, 0, 0, 0, 0, 0, 0, 0, 0, 0, 0, 0, 0, 0, 0, 0, 0],\n",
       "        [0, 0, 0, 0, 0, 0, 0, 0, 0, 0, 0, 0, 0, 0, 0, 0, 0, 0, 0],\n",
       "        [0, 0, 0, 0, 0, 0, 0, 0, 0, 0, 0, 0, 0, 0, 0, 0, 0, 0, 0],\n",
       "        [0, 0, 0, 0, 0, 0, 0, 0, 0, 0, 0, 0, 0, 0, 0, 0, 0, 0, 0],\n",
       "        [0, 0, 0, 0, 0, 0, 0, 0, 0, 0, 0, 0, 0, 0, 0, 0, 0, 0, 0],\n",
       "        [0, 0, 0, 0, 0, 0, 0, 0, 0, 0, 0, 0, 0, 0, 0, 0, 0, 0, 0],\n",
       "        [0, 0, 0, 0, 0, 0, 0, 0, 0, 0, 0, 0, 0, 0, 0, 0, 0, 0, 0],\n",
       "        [0, 0, 0, 0, 0, 0, 0, 0, 0, 0, 0, 0, 0, 0, 0, 0, 0, 0, 0],\n",
       "        [0, 0, 0, 0, 0, 0, 0, 0, 0, 0, 0, 0, 0, 0, 0, 0, 0, 0, 0],\n",
       "        [0, 0, 0, 0, 0, 0, 0, 0, 0, 0, 0, 0, 0, 0, 0, 0, 0, 0, 0],\n",
       "        [0, 0, 0, 0, 0, 0, 0, 0, 0, 0, 0, 0, 0, 0, 0, 0, 0, 0, 0],\n",
       "        [0, 0, 0, 0, 0, 0, 0, 0, 0, 0, 0, 0, 0, 0, 0, 0, 0, 0, 0],\n",
       "        [0, 0, 0, 0, 0, 0, 0, 0, 0, 0, 0, 0, 0, 0, 0, 0, 0, 0, 0]])"
      ]
     },
     "execution_count": 63,
     "metadata": {},
     "output_type": "execute_result"
    }
   ],
   "source": [
    "nx.adjacency_matrix(g1).todense()"
   ]
  },
  {
   "cell_type": "code",
   "execution_count": 78,
   "id": "bf99c24c",
   "metadata": {},
   "outputs": [
    {
     "data": {
      "text/plain": [
       "{'CEO': {'GERENTE 1': {}, 'GERENTE 2': {}, 'GERENTE 3': {}, 'GERENTE 4': {}},\n",
       " 'GERENTE 1': {'ANALISTA 1': {}, 'ANALISTA 2': {}, 'ANALISTA 3': {}},\n",
       " 'GERENTE 2': {'ANALISTA 4': {}, 'ANALISTA 5': {}, 'ANALISTA 6': {}},\n",
       " 'GERENTE 3': {'ANALISTA 7': {}, 'ANALISTA 8': {}, 'ANALISTA 9': {}},\n",
       " 'GERENTE 4': {'ANALISTA 10': {},\n",
       "  'ANALISTA 11': {},\n",
       "  'ANALISTA 12': {},\n",
       "  'ESTAGIÁRIO 1': {},\n",
       "  'ESTAGIÁRIO 2': {}},\n",
       " 'ANALISTA 1': {},\n",
       " 'ANALISTA 2': {},\n",
       " 'ANALISTA 3': {},\n",
       " 'ANALISTA 4': {},\n",
       " 'ANALISTA 5': {},\n",
       " 'ANALISTA 6': {},\n",
       " 'ANALISTA 7': {},\n",
       " 'ANALISTA 8': {},\n",
       " 'ANALISTA 9': {},\n",
       " 'ANALISTA 10': {},\n",
       " 'ANALISTA 11': {},\n",
       " 'ANALISTA 12': {},\n",
       " 'ESTAGIÁRIO 1': {},\n",
       " 'ESTAGIÁRIO 2': {}}"
      ]
     },
     "execution_count": 78,
     "metadata": {},
     "output_type": "execute_result"
    }
   ],
   "source": [
    "g1._adj"
   ]
  },
  {
   "cell_type": "code",
   "execution_count": 79,
   "id": "3b77658d",
   "metadata": {},
   "outputs": [
    {
     "name": "stdout",
     "output_type": "stream",
     "text": [
      "CEO GERENTE 1 GERENTE 2 GERENTE 3 GERENTE 4\n",
      "GERENTE 1 ANALISTA 1 ANALISTA 2 ANALISTA 3\n",
      "GERENTE 2 ANALISTA 4 ANALISTA 5 ANALISTA 6\n",
      "GERENTE 3 ANALISTA 7 ANALISTA 8 ANALISTA 9\n",
      "GERENTE 4 ANALISTA 10 ANALISTA 11 ANALISTA 12 ESTAGIÁRIO 1 ESTAGIÁRIO 2\n",
      "ANALISTA 1\n",
      "ANALISTA 2\n",
      "ANALISTA 3\n",
      "ANALISTA 4\n",
      "ANALISTA 5\n",
      "ANALISTA 6\n",
      "ANALISTA 7\n",
      "ANALISTA 8\n",
      "ANALISTA 9\n",
      "ANALISTA 10\n",
      "ANALISTA 11\n",
      "ANALISTA 12\n",
      "ESTAGIÁRIO 1\n",
      "ESTAGIÁRIO 2\n"
     ]
    }
   ],
   "source": [
    "for item in nx.generate_adjlist(g1):\n",
    "    \n",
    "    print(item)"
   ]
  },
  {
   "cell_type": "code",
   "execution_count": null,
   "id": "2276aa08",
   "metadata": {},
   "outputs": [],
   "source": [
    "'''REPRESENTANDO ORGANOGRAMA'''"
   ]
  },
  {
   "cell_type": "code",
   "execution_count": 178,
   "id": "20c1f969",
   "metadata": {},
   "outputs": [],
   "source": [
    "import matplotlib.pyplot as plt\n",
    "import pydot\n",
    "from networkx.drawing.nx_pydot import graphviz_layout\n",
    "\n"
   ]
  },
  {
   "cell_type": "code",
   "execution_count": 179,
   "id": "7dfecd99",
   "metadata": {
    "scrolled": true
   },
   "outputs": [
    {
     "data": {
      "image/png": "[encoded data removed]",
      "text/plain": [
       "<Figure size 432x288 with 1 Axes>"
      ]
     },
     "metadata": {},
     "output_type": "display_data"
    }
   ],
   "source": [
    "nx.draw_networkx(g1, pos=nx.spring_layout(g1, seed=200), node_color = \"pink\")"
   ]
  },
  {
   "cell_type": "code",
   "execution_count": 180,
   "id": "510a9759",
   "metadata": {},
   "outputs": [
    {
     "data": {
      "image/png": "[encoded data removed]",
      "text/plain": [
       "<Figure size 1800x720 with 1 Axes>"
      ]
     },
     "metadata": {},
     "output_type": "display_data"
    }
   ],
   "source": [
    "plt.figure(1,figsize=(25,10))\n",
    "nx.draw_networkx(g1, pos = gviz(g1, prog=\"dot\"),node_size=1500, node_color = \"red\")"
   ]
  },
  {
   "cell_type": "code",
   "execution_count": null,
   "id": "fbdb424c",
   "metadata": {},
   "outputs": [],
   "source": [
    "'''DEFININDO OS CAMINHOS '''"
   ]
  },
  {
   "cell_type": "code",
   "execution_count": 181,
   "id": "4cc23e7f",
   "metadata": {},
   "outputs": [
    {
     "data": {
      "text/plain": [
       "<generator object _all_simple_paths_graph at 0x7fd2a0f61c80>"
      ]
     },
     "execution_count": 181,
     "metadata": {},
     "output_type": "execute_result"
    }
   ],
   "source": [
    "nx.all_simple_paths(g1, \"CEO\", \"ESTAGIÁRIO 2\")"
   ]
  },
  {
   "cell_type": "code",
   "execution_count": 182,
   "id": "5cae3bab",
   "metadata": {},
   "outputs": [
    {
     "data": {
      "text/plain": [
       "[['CEO', 'GERENTE 1', 'ANALISTA 1']]"
      ]
     },
     "execution_count": 182,
     "metadata": {},
     "output_type": "execute_result"
    }
   ],
   "source": [
    "[caminho for caminho in nx.all_simple_paths(g1, \"CEO\", \"ANALISTA 1\")]"
   ]
  },
  {
   "cell_type": "code",
   "execution_count": 183,
   "id": "b832ad62",
   "metadata": {},
   "outputs": [],
   "source": [
    "def caminho(g1, posicao_1, posicao_2):\n",
    "    \n",
    "    path = [caminho for caminho in nx.all_simple_paths(g1, posicao_1, posicao_2)]\n",
    "    \n",
    "    return path\n",
    "    \n",
    "    "
   ]
  },
  {
   "cell_type": "code",
   "execution_count": 90,
   "id": "728e114e",
   "metadata": {},
   "outputs": [
    {
     "name": "stdout",
     "output_type": "stream",
     "text": [
      "[]\n"
     ]
    }
   ],
   "source": [
    "print(caminho(g1,\"ANALISTA 1\",\"ANALISTA 2\"))"
   ]
  },
  {
   "cell_type": "code",
   "execution_count": 184,
   "id": "00b6158c",
   "metadata": {},
   "outputs": [
    {
     "name": "stdout",
     "output_type": "stream",
     "text": [
      "[['CEO', 'GERENTE 1', 'ANALISTA 2']]\n"
     ]
    }
   ],
   "source": [
    "print(caminho(g1,\"CEO\",\"ANALISTA 2\"))"
   ]
  },
  {
   "cell_type": "code",
   "execution_count": 113,
   "id": "171a0ccc",
   "metadata": {},
   "outputs": [
    {
     "name": "stdout",
     "output_type": "stream",
     "text": [
      "[['GERENTE 1', 'ANALISTA 3']]\n"
     ]
    }
   ],
   "source": [
    "print(caminho(g1,\"GERENTE 1\",\"ANALISTA 3\"))"
   ]
  },
  {
   "cell_type": "code",
   "execution_count": 114,
   "id": "4749a724",
   "metadata": {},
   "outputs": [
    {
     "name": "stdout",
     "output_type": "stream",
     "text": [
      "[]\n"
     ]
    }
   ],
   "source": [
    "print(caminho(g1,\"CEO\",\"CEO\"))"
   ]
  },
  {
   "cell_type": "code",
   "execution_count": null,
   "id": "a80032b8",
   "metadata": {},
   "outputs": [],
   "source": [
    "'''IMPLEMENTANDO FUNÇÃO PARA CHECAR SE TRABALHADOR TRABALHA NA EMPRESA'''"
   ]
  },
  {
   "cell_type": "code",
   "execution_count": 185,
   "id": "d3d18ceb",
   "metadata": {},
   "outputs": [],
   "source": [
    "\n",
    "def trabalha_na_cia(g1, funcionario):\n",
    "\n",
    "    \n",
    "    Andre = \"CEO\"\n",
    "    Gabriel = \"GERENTE 1\"\n",
    "    Luis = \"GERENTE 2\"\n",
    "    Fernanda = \"GERENTE 3\"\n",
    "    Felipe = \"GERENTE 4\"\n",
    "    Julia = \"ANALISTA 1\"\n",
    "    Marina = \"ANALISTA 2\"\n",
    "    Marcia = \"ANALISTA 3\"\n",
    "    Marcos = \"ANALISTA 4\"\n",
    "    Flavia = \"ANALISTA 5\"\n",
    "    Roxane = \"ANALISTA 6\"\n",
    "    Joana = \"ANALISTA 7\"\n",
    "    Carlos = \"ANALISTA 8\"\n",
    "    Roberta = \"ANALISTA 9\"\n",
    "    Rafael = \"ANALISTA 10\"\n",
    "    Josefina = \"ANALISTA 11\"\n",
    "    Ludmila = \"ANALISTA 12\"\n",
    "    William = \"ESTAGIÁRIO 1\"\n",
    "    Alberto = \"ESTAGIÁRIO 2\"\n",
    "    \n",
    "    if funcionario in g1 and funcionario==\"CEO\":\n",
    "        \n",
    "        return f\"Andre é {funcionario} da empresa\"\n",
    "    \n",
    "    elif funcionario in g1 and funcionario==\"GERENTE 1\":\n",
    "        \n",
    "        return f\"Gabriel é {funcionario} da empresa\"\n",
    "    \n",
    "    elif funcionario in g1 and funcionario==\"GERENTE 2\":\n",
    "        \n",
    "        return f\"Luis é {funcionario} da empresa\"\n",
    "    \n",
    "    elif funcionario in g1 and funcionario==\"GERENTE 3\":\n",
    "        \n",
    "        return f\"Fernanda é {funcionario} da empresa\"\n",
    "    \n",
    "    elif funcionario in g1 and funcionario==\"GERENTE 4\":\n",
    "        \n",
    "        return f\"Felipe é {funcionario} da empresa\"\n",
    "    \n",
    "    elif funcionario in g1 and funcionario==\"ANALISTA 1\":\n",
    "        \n",
    "        return f\"Julia é {funcionario} da empresa\"\n",
    "    \n",
    "    elif funcionario in g1 and funcionario==\"ANALISTA 2\":\n",
    "        \n",
    "        return f\"Marina é {funcionario} da empresa\"\n",
    "\n",
    "    elif funcionario in g1 and funcionario==\"ANALISTA 3\":\n",
    "        \n",
    "        return f\"Marcia é {funcionario} da empresa\"\n",
    "\n",
    "    elif funcionario in g1 and funcionario==\"ANALISTA 4\":\n",
    "        \n",
    "        return f\"Marcos é {funcionario} da empresa\"\n",
    "\n",
    "    elif funcionario in g1 and funcionario==\"ANALISTA 5\":\n",
    "        \n",
    "        return f\"Flavia é {funcionario} da empresa\"\n",
    "\n",
    "    elif funcionario in g1 and funcionario==\"ANALISTA 6\":\n",
    "        \n",
    "        return f\"Roxana é {funcionario} da empresa\"\n",
    "    \n",
    "    elif funcionario in g1 and funcionario==\"ANALISTA 7\":\n",
    "        \n",
    "        return f\"Joana é {funcionario} da empresa\"\n",
    "    \n",
    "    elif funcionario in g1 and funcionario==\"ANALISTA 8\":\n",
    "        \n",
    "        return f\"Carlos é {funcionario} da empresa\"\n",
    "    \n",
    "    elif funcionario in g1 and funcionario==\"ANALISTA 9\":\n",
    "        \n",
    "        return f\"Roberta é {funcionario} da empresa\"\n",
    "    \n",
    "    elif funcionario in g1 and funcionario==\"ANALISTA 10\":\n",
    "        \n",
    "        return f\"Rafael é {funcionario} da empresa\"\n",
    "    \n",
    "    elif funcionario in g1 and funcionario==\"ANALISTA 11\":\n",
    "        \n",
    "        return f\"Josefina é {funcionario} da empresa\"\n",
    "    \n",
    "    elif funcionario in g1 and funcionario==\"ANALISTA 12\":\n",
    "        \n",
    "        return f\"Ludmila é {funcionario} da empresa\"\n",
    "    \n",
    "    elif funcionario in g1 and funcionario==\"ESTAGIÁRIO 1\":\n",
    "        \n",
    "        return f\"William é {funcionario} da empresa\"\n",
    "    \n",
    "    elif funcionario in g1 and funcionario==\"ESTAGIÁRIO 2\":\n",
    "        \n",
    "        return f\"Alberto é {funcionario} da empresa\"\n",
    "    \n",
    "    else:\n",
    "        return f\"**Não há este funcionário na empresa**\"\n",
    "    "
   ]
  },
  {
   "cell_type": "code",
   "execution_count": 186,
   "id": "2d62e1ca",
   "metadata": {},
   "outputs": [
    {
     "name": "stdout",
     "output_type": "stream",
     "text": [
      "Andre é CEO da empresa\n",
      "Julia é ANALISTA 1 da empresa\n",
      "Ludmila é ANALISTA 12 da empresa\n",
      "Gabriel é GERENTE 1 da empresa\n",
      "William é ESTAGIÁRIO 1 da empresa\n",
      "**Não há este funcionário na empresa**\n"
     ]
    }
   ],
   "source": [
    "print(trabalha_na_cia(g1, 'CEO'))\n",
    "print(trabalha_na_cia(g1, 'ANALISTA 1'))\n",
    "print(trabalha_na_cia(g1, 'ANALISTA 12'))\n",
    "print(trabalha_na_cia(g1, 'GERENTE 1'))\n",
    "print(trabalha_na_cia(g1, 'ESTAGIÁRIO 1'))\n",
    "print(trabalha_na_cia(g1, 'MOTORISTA'))\n"
   ]
  },
  {
   "cell_type": "code",
   "execution_count": null,
   "id": "bbc0bf73",
   "metadata": {},
   "outputs": [],
   "source": [
    "'''QUANTO À COMPLEXIDADE PODEMOS DIZER QUE SE TRATA DE O(n), POIS É LINEAR, COM APENAS UM LOOP. \n",
    "O ALGORITMO PERCORRE OS CAMINHOS DE FORMA DIRECIONAL E ITERATIVA, NÃO HÁ EMPREGO DE RECURSIVIDADE. \n",
    "VOCÊ DEFINE O NÓ DE ORIGEM E O NÓ DE DESTINO. O CAMINHO É PERCORRIDO UMA SÓ VEZ DE ACORDO COM OS ÍNDICES \n",
    "ESTIPULADOS EM RELAÇÃO AO NÚMERO DE NÓS. SE HOUVESSE, POR EXEMPLO UM LOOP DENTRO DO OUTRO, PROVAVELMENTE \n",
    "SERIA O(n**2) E CASO OS ÍNDICES FOSSEM DOBRANDO OU REDUZINDO PELA METADE, TERÍAMOS O(log2(n))'''"
   ]
  },
  {
   "cell_type": "code",
   "execution_count": 177,
   "id": "21ff7a60",
   "metadata": {},
   "outputs": [],
   "source": [
    "\n",
    "''' SALVANDO ARQUIVO \"matriz_de_adjacencia.txt\" '''\n",
    "\n",
    "nx.adjacency_matrix(g1).todense()\n",
    "\n",
    "    \n",
    "arquivo = \"matriz_de_adjacencia.txt\"\n",
    "\n",
    "with open(arquivo, \"w\", encoding=\"utf-8\") as f:\n",
    "\n",
    "    f.write(\"nx.adjacency_matrix(g1).todense()\")"
   ]
  },
  {
   "cell_type": "code",
   "execution_count": null,
   "id": "b6e3b21e",
   "metadata": {},
   "outputs": [],
   "source": []
  }
 ],
 "metadata": {
  "kernelspec": {
   "display_name": "Python 3 (ipykernel)",
   "language": "python",
   "name": "python3"
  },
  "language_info": {
   "codemirror_mode": {
    "name": "ipython",
    "version": 3
   },
   "file_extension": ".py",
   "mimetype": "text/x-python",
   "name": "python",
   "nbconvert_exporter": "python",
   "pygments_lexer": "ipython3",
   "version": "3.8.10"
  }
 },
 "nbformat": 4,
 "nbformat_minor": 5
}
